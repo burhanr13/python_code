{
  "nbformat": 4,
  "nbformat_minor": 2,
  "metadata": {
    "colab": {
      "name": "Part2_Music_Generation.ipynb",
      "provenance": [],
      "collapsed_sections": [
        "uoJsVjtCMunI"
      ]
    },
    "kernelspec": {
      "name": "python3",
      "display_name": "Python 3.9.0 64-bit"
    },
    "accelerator": "GPU",
    "language_info": {
      "name": "python",
      "version": "3.9.0",
      "mimetype": "text/x-python",
      "codemirror_mode": {
        "name": "ipython",
        "version": 3
      },
      "pygments_lexer": "ipython3",
      "nbconvert_exporter": "python",
      "file_extension": ".py"
    },
    "interpreter": {
      "hash": "8aa8362771f09199fa2555da6b05733ce08ed364b1b18a9023dfc7c3066aed74"
    }
  },
  "cells": [
    {
      "cell_type": "markdown",
      "source": [
        "<table align=\"center\">\n",
        "  <td align=\"center\"><a target=\"_blank\" href=\"http://introtodeeplearning.com\">\n",
        "        <img src=\"https://i.ibb.co/Jr88sn2/mit.png\" style=\"padding-bottom:5px;\" />\n",
        "      Visit MIT Deep Learning</a></td>\n",
        "  <td align=\"center\"><a target=\"_blank\" href=\"https://colab.research.google.com/github/aamini/introtodeeplearning/blob/master/lab1/Part2_Music_Generation.ipynb\">\n",
        "        <img src=\"https://i.ibb.co/2P3SLwK/colab.png\"  style=\"padding-bottom:5px;\" />Run in Google Colab</a></td>\n",
        "  <td align=\"center\"><a target=\"_blank\" href=\"https://github.com/aamini/introtodeeplearning/blob/master/lab1/Part2_Music_Generation.ipynb\">\n",
        "        <img src=\"https://i.ibb.co/xfJbPmL/github.png\"  height=\"70px\" style=\"padding-bottom:5px;\"  />View Source on GitHub</a></td>\n",
        "</table>\n",
        "\n",
        "# Copyright Information"
      ],
      "metadata": {
        "id": "uoJsVjtCMunI"
      }
    },
    {
      "cell_type": "code",
      "execution_count": 2,
      "source": [
        "# Copyright 2021 MIT 6.S191 Introduction to Deep Learning. All Rights Reserved.\r\n",
        "# \r\n",
        "# Licensed under the MIT License. You may not use this file except in compliance\r\n",
        "# with the License. Use and/or modification of this code outside of 6.S191 must\r\n",
        "# reference:\r\n",
        "#\r\n",
        "# © MIT 6.S191: Introduction to Deep Learning\r\n",
        "# http://introtodeeplearning.com\r\n",
        "#"
      ],
      "outputs": [],
      "metadata": {
        "id": "bUik05YqMyCH"
      }
    },
    {
      "cell_type": "markdown",
      "source": [
        "# Lab 1: Intro to TensorFlow and Music Generation with RNNs\n",
        "\n",
        "# Part 2: Music Generation with RNNs\n",
        "\n",
        "In this portion of the lab, we will explore building a Recurrent Neural Network (RNN) for music generation. We will train a model to learn the patterns in raw sheet music in [ABC notation](https://en.wikipedia.org/wiki/ABC_notation) and then use this model to generate new music. "
      ],
      "metadata": {
        "id": "O-97SDET3JG-"
      }
    },
    {
      "cell_type": "markdown",
      "source": [
        "## 2.1 Dependencies \n",
        "First, let's download the course repository, install dependencies, and import the relevant packages we'll need for this lab."
      ],
      "metadata": {
        "id": "rsvlBQYCrE4I"
      }
    },
    {
      "cell_type": "code",
      "execution_count": 3,
      "source": [
        "# Import Tensorflow 2.0\r\n",
        "# %tensorflow_version 2.x\r\n",
        "import tensorflow as tf \r\n",
        "\r\n",
        "# Download and import the MIT 6.S191 package\r\n",
        "# !pip install mitdeeplearning\r\n",
        "import mitdeeplearning as mdl\r\n",
        "\r\n",
        "# Import all remaining packages\r\n",
        "import numpy as np\r\n",
        "import os\r\n",
        "import time\r\n",
        "import functools\r\n",
        "from IPython import display as ipythondisplay\r\n",
        "from tqdm import tqdm\r\n",
        "# !apt-get install abcmidi timidity > /dev/null 2>&1\r\n",
        "\r\n",
        "# Check that we are using a GPU, if not switch runtimes\r\n",
        "#   using Runtime > Change Runtime Type > GPU\r\n",
        "assert len(tf.config.list_physical_devices('GPU')) > 0"
      ],
      "outputs": [],
      "metadata": {
        "id": "riVZCVK65QTH"
      }
    },
    {
      "cell_type": "markdown",
      "source": [
        "## 2.2 Dataset\n",
        "\n",
        "![Let's Dance!](http://33.media.tumblr.com/3d223954ad0a77f4e98a7b87136aa395/tumblr_nlct5lFVbF1qhu7oio1_500.gif)\n",
        "\n",
        "We've gathered a dataset of thousands of Irish folk songs, represented in the ABC notation. Let's download the dataset and inspect it: \n"
      ],
      "metadata": {
        "id": "_ajvp0No4qDm"
      }
    },
    {
      "cell_type": "code",
      "execution_count": 4,
      "source": [
        "# Download the dataset\r\n",
        "songs = mdl.lab1.load_training_data()\r\n",
        "\r\n",
        "# Print one of the songs to inspect it in greater detail!\r\n",
        "example_song = songs[0]\r\n",
        "print(\"\\nExample song: \")\r\n",
        "print(example_song)"
      ],
      "outputs": [
        {
          "output_type": "stream",
          "name": "stdout",
          "text": [
            "Found 817 songs in text\n",
            "\n",
            "Example song: \n",
            "X:1\n",
            "T:Alexander's\n",
            "Z: id:dc-hornpipe-1\n",
            "M:C|\n",
            "L:1/8\n",
            "K:D Major\n",
            "(3ABc|dAFA DFAd|fdcd FAdf|gfge fefd|(3efe (3dcB A2 (3ABc|!\n",
            "dAFA DFAd|fdcd FAdf|gfge fefd|(3efe dc d2:|!\n",
            "AG|FAdA FAdA|GBdB GBdB|Acec Acec|dfaf gecA|!\n",
            "FAdA FAdA|GBdB GBdB|Aceg fefd|(3efe dc d2:|!\n"
          ]
        }
      ],
      "metadata": {
        "id": "P7dFnP5q3Jve"
      }
    },
    {
      "cell_type": "markdown",
      "source": [
        "We can easily convert a song in ABC notation to an audio waveform and play it back. Be patient for this conversion to run, it can take some time."
      ],
      "metadata": {
        "id": "hKF3EHJlCAj2"
      }
    },
    {
      "cell_type": "code",
      "execution_count": 5,
      "source": [
        "# Convert the ABC notation to audio file and listen to it\r\n",
        "mdl.lab1.play_song(example_song)"
      ],
      "outputs": [],
      "metadata": {
        "id": "11toYzhEEKDz"
      }
    },
    {
      "cell_type": "markdown",
      "source": [
        "One important thing to think about is that this notation of music does not simply contain information on the notes being played, but additionally there is meta information such as the song title, key, and tempo. How does the number of different characters that are present in the text file impact the complexity of the learning problem? This will become important soon, when we generate a numerical representation for the text data."
      ],
      "metadata": {
        "id": "7vH24yyquwKQ"
      }
    },
    {
      "cell_type": "code",
      "execution_count": 6,
      "source": [
        "# Join our list of song strings into a single string containing all songs\r\n",
        "songs_joined = \"\\n\\n\".join(songs) \r\n",
        "\r\n",
        "# Find all unique characters in the joined string\r\n",
        "vocab = sorted(set(songs_joined))\r\n",
        "print(\"There are\", len(vocab), \"unique characters in the dataset\")"
      ],
      "outputs": [
        {
          "output_type": "stream",
          "name": "stdout",
          "text": [
            "There are 83 unique characters in the dataset\n"
          ]
        }
      ],
      "metadata": {
        "id": "IlCgQBRVymwR"
      }
    },
    {
      "cell_type": "markdown",
      "source": [
        "## 2.3 Process the dataset for the learning task\n",
        "\n",
        "Let's take a step back and consider our prediction task. We're trying to train a RNN model to learn patterns in ABC music, and then use this model to generate (i.e., predict) a new piece of music based on this learned information. \n",
        "\n",
        "Breaking this down, what we're really asking the model is: given a character, or a sequence of characters, what is the most probable next character? We'll train the model to perform this task. \n",
        "\n",
        "To achieve this, we will input a sequence of characters to the model, and train the model to predict the output, that is, the following character at each time step. RNNs maintain an internal state that depends on previously seen elements, so information about all characters seen up until a given moment will be taken into account in generating the prediction."
      ],
      "metadata": {
        "id": "rNnrKn_lL-IJ"
      }
    },
    {
      "cell_type": "markdown",
      "source": [
        "### Vectorize the text\n",
        "\n",
        "Before we begin training our RNN model, we'll need to create a numerical representation of our text-based dataset. To do this, we'll generate two lookup tables: one that maps characters to numbers, and a second that maps numbers back to characters. Recall that we just identified the unique characters present in the text."
      ],
      "metadata": {
        "id": "LFjSVAlWzf-N"
      }
    },
    {
      "cell_type": "code",
      "execution_count": 7,
      "source": [
        "### Define numerical representation of text ###\r\n",
        "\r\n",
        "# Create a mapping from character to unique index.\r\n",
        "# For example, to get the index of the character \"d\", \r\n",
        "#   we can evaluate `char2idx[\"d\"]`.  \r\n",
        "char2idx = {u:i for i, u in enumerate(vocab)}\r\n",
        "\r\n",
        "# Create a mapping from indices to characters. This is\r\n",
        "#   the inverse of char2idx and allows us to convert back\r\n",
        "#   from unique index to the character in our vocabulary.\r\n",
        "idx2char = np.array(vocab)"
      ],
      "outputs": [],
      "metadata": {
        "id": "IalZLbvOzf-F"
      }
    },
    {
      "cell_type": "markdown",
      "source": [
        "This gives us an integer representation for each character. Observe that the unique characters (i.e., our vocabulary) in the text are mapped as indices from 0 to `len(unique)`. Let's take a peek at this numerical representation of our dataset:"
      ],
      "metadata": {
        "id": "tZfqhkYCymwX"
      }
    },
    {
      "cell_type": "code",
      "execution_count": 8,
      "source": [
        "print('{')\r\n",
        "for char,_ in zip(char2idx, range(20)):\r\n",
        "    print('  {:4s}: {:3d},'.format(repr(char), char2idx[char]))\r\n",
        "print('  ...\\n}')"
      ],
      "outputs": [
        {
          "output_type": "stream",
          "name": "stdout",
          "text": [
            "{\n",
            "  '\\n':   0,\n",
            "  ' ' :   1,\n",
            "  '!' :   2,\n",
            "  '\"' :   3,\n",
            "  '#' :   4,\n",
            "  \"'\" :   5,\n",
            "  '(' :   6,\n",
            "  ')' :   7,\n",
            "  ',' :   8,\n",
            "  '-' :   9,\n",
            "  '.' :  10,\n",
            "  '/' :  11,\n",
            "  '0' :  12,\n",
            "  '1' :  13,\n",
            "  '2' :  14,\n",
            "  '3' :  15,\n",
            "  '4' :  16,\n",
            "  '5' :  17,\n",
            "  '6' :  18,\n",
            "  '7' :  19,\n",
            "  ...\n",
            "}\n"
          ]
        }
      ],
      "metadata": {
        "id": "FYyNlCNXymwY"
      }
    },
    {
      "cell_type": "code",
      "execution_count": 9,
      "source": [
        "### Vectorize the songs string ###\r\n",
        "\r\n",
        "'''TODO: Write a function to convert the all songs string to a vectorized\r\n",
        "    (i.e., numeric) representation. Use the appropriate mapping\r\n",
        "    above to convert from vocab characters to the corresponding indices.\r\n",
        "\r\n",
        "  NOTE: the output of the `vectorize_string` function \r\n",
        "  should be a np.array with `N` elements, where `N` is\r\n",
        "  the number of characters in the input string\r\n",
        "'''\r\n",
        "\r\n",
        "def vectorize_string(string):\r\n",
        "    return np.array([char2idx[i] for i in string])\r\n",
        "\r\n",
        "vectorized_songs = vectorize_string(songs_joined)"
      ],
      "outputs": [],
      "metadata": {
        "id": "g-LnKyu4dczc"
      }
    },
    {
      "cell_type": "markdown",
      "source": [
        "We can also look at how the first part of the text is mapped to an integer representation:"
      ],
      "metadata": {
        "id": "IqxpSuZ1w-ub"
      }
    },
    {
      "cell_type": "code",
      "execution_count": 10,
      "source": [
        "print ('{} ---- characters mapped to int ----> {}'.format(repr(songs_joined[:10]), vectorized_songs[:10]))\r\n",
        "# check that vectorized_songs is a numpy array\r\n",
        "assert isinstance(vectorized_songs, np.ndarray), \"returned result should be a numpy array\""
      ],
      "outputs": [
        {
          "output_type": "stream",
          "name": "stdout",
          "text": [
            "'X:1\\nT:Alex' ---- characters mapped to int ----> [49 22 13  0 45 22 26 67 60 79]\n"
          ]
        }
      ],
      "metadata": {
        "id": "l1VKcQHcymwb"
      }
    },
    {
      "cell_type": "markdown",
      "source": [
        "### Create training examples and targets\n",
        "\n",
        "Our next step is to actually divide the text into example sequences that we'll use during training. Each input sequence that we feed into our RNN will contain `seq_length` characters from the text. We'll also need to define a target sequence for each input sequence, which will be used in training the RNN to predict the next character. For each input, the corresponding target will contain the same length of text, except shifted one character to the right.\n",
        "\n",
        "To do this, we'll break the text into chunks of `seq_length+1`. Suppose `seq_length` is 4 and our text is \"Hello\". Then, our input sequence is \"Hell\" and the target sequence is \"ello\".\n",
        "\n",
        "The batch method will then let us convert this stream of character indices to sequences of the desired size."
      ],
      "metadata": {
        "id": "hgsVvVxnymwf"
      }
    },
    {
      "cell_type": "code",
      "execution_count": 11,
      "source": [
        "### Batch definition to create training examples ###\r\n",
        "\r\n",
        "def get_batch(vectorized_songs, seq_length, batch_size):\r\n",
        "  # the length of the vectorized songs string\r\n",
        "  n = vectorized_songs.shape[0] - 1\r\n",
        "  # randomly choose the starting indices for the examples in the training batch\r\n",
        "  idx = np.random.choice(n-seq_length, batch_size)\r\n",
        "\r\n",
        "  '''TODO: construct a list of input sequences for the training batch'''\r\n",
        "  input_batch = np.array([vectorized_songs[i:i+seq_length] for i in idx])\r\n",
        "  '''TODO: construct a list of output sequences for the training batch'''\r\n",
        "  output_batch = np.array([vectorized_songs[i+1:i+seq_length+1] for i in idx])\r\n",
        "\r\n",
        "  # x_batch, y_batch provide the true inputs and targets for network training\r\n",
        "  x_batch = np.reshape(input_batch, [batch_size, seq_length])\r\n",
        "  y_batch = np.reshape(output_batch, [batch_size, seq_length])\r\n",
        "  return x_batch, y_batch\r\n",
        "\r\n",
        "\r\n",
        "# Perform some simple tests to make sure your batch function is working properly! \r\n",
        "test_args = (vectorized_songs, 10, 2)\r\n",
        "if not mdl.lab1.test_batch_func_types(get_batch, test_args) or \\\r\n",
        "   not mdl.lab1.test_batch_func_shapes(get_batch, test_args) or \\\r\n",
        "   not mdl.lab1.test_batch_func_next_step(get_batch, test_args): \r\n",
        "   print(\"======\\n[FAIL] could not pass tests\")\r\n",
        "else: \r\n",
        "   print(\"======\\n[PASS] passed all tests!\")\r\n"
      ],
      "outputs": [
        {
          "output_type": "stream",
          "name": "stdout",
          "text": [
            "[PASS] test_batch_func_types\n",
            "[PASS] test_batch_func_shapes\n",
            "[PASS] test_batch_func_next_step\n",
            "======\n",
            "[PASS] passed all tests!\n"
          ]
        }
      ],
      "metadata": {
        "id": "LF-N8F7BoDRi"
      }
    },
    {
      "cell_type": "markdown",
      "source": [
        "For each of these vectors, each index is processed at a single time step. So, for the input at time step 0, the model receives the index for the first character in the sequence, and tries to predict the index of the next character. At the next timestep, it does the same thing, but the RNN considers the information from the previous step, i.e., its updated state, in addition to the current input.\n",
        "\n",
        "We can make this concrete by taking a look at how this works over the first several characters in our text:"
      ],
      "metadata": {
        "id": "_33OHL3b84i0"
      }
    },
    {
      "cell_type": "code",
      "execution_count": 12,
      "source": [
        "x_batch, y_batch = get_batch(vectorized_songs, seq_length=5, batch_size=1)\r\n",
        "\r\n",
        "for i, (input_idx, target_idx) in enumerate(zip(np.squeeze(x_batch), np.squeeze(y_batch))):\r\n",
        "    print(\"Step {:3d}\".format(i))\r\n",
        "    print(\"  input: {} ({:s})\".format(input_idx, repr(idx2char[input_idx])))\r\n",
        "    print(\"  expected output: {} ({:s})\".format(target_idx, repr(idx2char[target_idx])))"
      ],
      "outputs": [
        {
          "output_type": "stream",
          "name": "stdout",
          "text": [
            "Step   0\n",
            "  input: 26 ('A')\n",
            "  expected output: 14 ('2')\n",
            "Step   1\n",
            "  input: 14 ('2')\n",
            "  expected output: 31 ('F')\n",
            "Step   2\n",
            "  input: 31 ('F')\n",
            "  expected output: 26 ('A')\n",
            "Step   3\n",
            "  input: 26 ('A')\n",
            "  expected output: 1 (' ')\n",
            "Step   4\n",
            "  input: 1 (' ')\n",
            "  expected output: 29 ('D')\n"
          ]
        }
      ],
      "metadata": {
        "id": "0eBu9WZG84i0"
      }
    },
    {
      "cell_type": "markdown",
      "source": [
        "## 2.4 The Recurrent Neural Network (RNN) model"
      ],
      "metadata": {
        "id": "r6oUuElIMgVx"
      }
    },
    {
      "cell_type": "markdown",
      "source": [
        "Now we're ready to define and train a RNN model on our ABC music dataset, and then use that trained model to generate a new song. We'll train our RNN using batches of song snippets from our dataset, which we generated in the previous section.\n",
        "\n",
        "The model is based off the LSTM architecture, where we use a state vector to maintain information about the temporal relationships between consecutive characters. The final output of the LSTM is then fed into a fully connected [`Dense`](https://www.tensorflow.org/api_docs/python/tf/keras/layers/Dense) layer where we'll output a softmax over each character in the vocabulary, and then sample from this distribution to predict the next character. \n",
        "\n",
        "As we introduced in the first portion of this lab, we'll be using the Keras API, specifically, [`tf.keras.Sequential`](https://www.tensorflow.org/api_docs/python/tf/keras/models/Sequential), to define the model. Three layers are used to define the model:\n",
        "\n",
        "* [`tf.keras.layers.Embedding`](https://www.tensorflow.org/api_docs/python/tf/keras/layers/Embedding): This is the input layer, consisting of a trainable lookup table that maps the numbers of each character to a vector with `embedding_dim` dimensions.\n",
        "* [`tf.keras.layers.LSTM`](https://www.tensorflow.org/api_docs/python/tf/keras/layers/LSTM): Our LSTM network, with size `units=rnn_units`. \n",
        "* [`tf.keras.layers.Dense`](https://www.tensorflow.org/api_docs/python/tf/keras/layers/Dense): The output layer, with `vocab_size` outputs.\n",
        "\n",
        "\n",
        "<img src=\"https://raw.githubusercontent.com/aamini/introtodeeplearning/2019/lab1/img/lstm_unrolled-01-01.png\" alt=\"Drawing\"/>"
      ],
      "metadata": {
        "id": "m8gPwEjRzf-Z"
      }
    },
    {
      "cell_type": "markdown",
      "source": [
        "### Define the RNN model\n",
        "\n",
        "Now, we will define a function that we will use to actually build the model."
      ],
      "metadata": {
        "id": "rlaOqndqBmJo"
      }
    },
    {
      "cell_type": "code",
      "execution_count": 13,
      "source": [
        "def LSTM(rnn_units): \r\n",
        "  return tf.keras.layers.LSTM(\r\n",
        "    rnn_units, \r\n",
        "    return_sequences=True, \r\n",
        "    recurrent_initializer='glorot_uniform',\r\n",
        "    recurrent_activation='sigmoid',\r\n",
        "    stateful=True,\r\n",
        "  )"
      ],
      "outputs": [],
      "metadata": {
        "id": "8DsWzojvkbc7"
      }
    },
    {
      "cell_type": "markdown",
      "source": [
        "The time has come! Fill in the `TODOs` to define the RNN model within the `build_model` function, and then call the function you just defined to instantiate the model!"
      ],
      "metadata": {
        "id": "IbWU4dMJmMvq"
      }
    },
    {
      "cell_type": "code",
      "execution_count": 14,
      "source": [
        "### Defining the RNN Model ###\r\n",
        "\r\n",
        "'''TODO: Add LSTM and Dense layers to define the RNN model using the Sequential API.'''\r\n",
        "def build_model(vocab_size, embedding_dim, rnn_units, batch_size):\r\n",
        "  model = tf.keras.Sequential([\r\n",
        "    # Layer 1: Embedding layer to transform indices into dense vectors \r\n",
        "    #   of a fixed embedding size\r\n",
        "    tf.keras.layers.Embedding(vocab_size, embedding_dim, batch_input_shape=[batch_size, None]),\r\n",
        "\r\n",
        "    # Layer 2: LSTM with `rnn_units` number of units. \r\n",
        "    # TODO: Call the LSTM function defined above to add this layer.\r\n",
        "    LSTM(rnn_units),\r\n",
        "\r\n",
        "    # Layer 3: Dense (fully-connected) layer that transforms the LSTM output\r\n",
        "    #   into the vocabulary size. \r\n",
        "    # TODO: Add the Dense layer.\r\n",
        "    tf.keras.layers.Dense(vocab_size)\r\n",
        "  ])\r\n",
        "\r\n",
        "  return model\r\n",
        "\r\n",
        "# Build a simple model with default hyperparameters. You will get the \r\n",
        "#   chance to change these later.\r\n",
        "model = build_model(len(vocab), embedding_dim=256, rnn_units=1024, batch_size=32)"
      ],
      "outputs": [],
      "metadata": {
        "id": "MtCrdfzEI2N0"
      }
    },
    {
      "cell_type": "markdown",
      "source": [
        "### Test out the RNN model\n",
        "\n",
        "It's always a good idea to run a few simple checks on our model to see that it behaves as expected.  \n",
        "\n",
        "First, we can use the `Model.summary` function to print out a summary of our model's internal workings. Here we can check the layers in the model, the shape of the output of each of the layers, the batch size, etc."
      ],
      "metadata": {
        "id": "-ubPo0_9Prjb"
      }
    },
    {
      "cell_type": "code",
      "execution_count": 15,
      "source": [
        "model.summary()"
      ],
      "outputs": [
        {
          "output_type": "stream",
          "name": "stdout",
          "text": [
            "Model: \"sequential\"\n",
            "_________________________________________________________________\n",
            "Layer (type)                 Output Shape              Param #   \n",
            "=================================================================\n",
            "embedding (Embedding)        (32, None, 256)           21248     \n",
            "_________________________________________________________________\n",
            "lstm (LSTM)                  (32, None, 1024)          5246976   \n",
            "_________________________________________________________________\n",
            "dense (Dense)                (32, None, 83)            85075     \n",
            "=================================================================\n",
            "Total params: 5,353,299\n",
            "Trainable params: 5,353,299\n",
            "Non-trainable params: 0\n",
            "_________________________________________________________________\n"
          ]
        }
      ],
      "metadata": {
        "id": "RwG1DD6rDrRM"
      }
    },
    {
      "cell_type": "markdown",
      "source": [
        "We can also quickly check the dimensionality of our output, using a sequence length of 100. Note that the model can be run on inputs of any length."
      ],
      "metadata": {
        "id": "8xeDn5nZD0LX"
      }
    },
    {
      "cell_type": "code",
      "execution_count": 16,
      "source": [
        "x, y = get_batch(vectorized_songs, seq_length=100, batch_size=32)\r\n",
        "pred = model(x)\r\n",
        "print(\"Input shape:      \", x.shape, \" # (batch_size, sequence_length)\")\r\n",
        "print(\"Prediction shape: \", pred.shape, \"# (batch_size, sequence_length, vocab_size)\")"
      ],
      "outputs": [
        {
          "output_type": "stream",
          "name": "stdout",
          "text": [
            "Input shape:       (32, 100)  # (batch_size, sequence_length)\n",
            "Prediction shape:  (32, 100, 83) # (batch_size, sequence_length, vocab_size)\n"
          ]
        }
      ],
      "metadata": {
        "id": "C-_70kKAPrPU"
      }
    },
    {
      "cell_type": "markdown",
      "source": [
        "### Predictions from the untrained model\n",
        "\n",
        "Let's take a look at what our untrained model is predicting.\n",
        "\n",
        "To get actual predictions from the model, we sample from the output distribution, which is defined by a `softmax` over our character vocabulary. This will give us actual character indices. This means we are using a [categorical distribution](https://en.wikipedia.org/wiki/Categorical_distribution) to sample over the example prediction. This gives a prediction of the next character (specifically its index) at each timestep.\n",
        "\n",
        "Note here that we sample from this probability distribution, as opposed to simply taking the `argmax`, which can cause the model to get stuck in a loop.\n",
        "\n",
        "Let's try this sampling out for the first example in the batch."
      ],
      "metadata": {
        "id": "mT1HvFVUGpoE"
      }
    },
    {
      "cell_type": "code",
      "execution_count": 17,
      "source": [
        "sampled_indices = tf.random.categorical(pred[0], num_samples=1)\r\n",
        "sampled_indices = tf.squeeze(sampled_indices,axis=-1).numpy()\r\n",
        "sampled_indices"
      ],
      "outputs": [
        {
          "output_type": "execute_result",
          "data": {
            "text/plain": [
              "array([45, 11, 79,  9,  0, 15, 36, 71, 26, 25, 57, 45, 11, 71, 71, 68, 43,\n",
              "        7, 60, 70, 30, 42, 32, 38, 62, 17, 44, 45, 67,  8,  6, 17,  5, 47,\n",
              "       21, 61, 27, 48, 28, 18, 81, 81,  0, 63, 35,  2, 59, 70, 22, 76,  5,\n",
              "       69, 45, 39, 23, 67,  7, 71, 72, 65, 17,  4, 70, 52, 35, 59, 38, 28,\n",
              "        1,  4, 15, 29, 81, 37, 76, 13, 72, 61, 35, 74, 16, 47, 56, 53, 10,\n",
              "       26, 35, 32, 14, 25, 71, 77, 58,  8, 14, 41, 73, 11, 67, 66],\n",
              "      dtype=int64)"
            ]
          },
          "metadata": {},
          "execution_count": 17
        }
      ],
      "metadata": {
        "id": "4V4MfFg0RQJg"
      }
    },
    {
      "cell_type": "markdown",
      "source": [
        "We can now decode these to see the text predicted by the untrained model:"
      ],
      "metadata": {
        "id": "LfLtsP3mUhCG"
      }
    },
    {
      "cell_type": "code",
      "execution_count": 18,
      "source": [
        "print(\"Input: \\n\", repr(\"\".join(idx2char[x[0]])))\r\n",
        "print()\r\n",
        "print(\"Next Char Predictions: \\n\", repr(\"\".join(idx2char[sampled_indices])))"
      ],
      "outputs": [
        {
          "output_type": "stream",
          "name": "stdout",
          "text": [
            "Input: \n",
            " ' dBA|BGG dBG|FAA ABd|!\\ngfg e2d|Bee dBA|BGG dBA|BGF G2:|!\\nd|gfg afd|gfg a2a|bag agf|def g2a|!\\nbgb afa'\n",
            "\n",
            "Next Char Predictions: \n",
            " \"T/x-\\n3KpA>bT/ppmR)eoEQGMg5STl,(5'V9fBWC6zz\\nhJ!do:u'nTN<l)pqj5#o[JdMC #3DzLu1qfJs4Va].AJG2>pvc,2Pr/lk\"\n"
          ]
        }
      ],
      "metadata": {
        "id": "xWcFwPwLSo05"
      }
    },
    {
      "cell_type": "markdown",
      "source": [
        "As you can see, the text predicted by the untrained model is pretty nonsensical! How can we do better? We can train the network!"
      ],
      "metadata": {
        "id": "HEHHcRasIDm9"
      }
    },
    {
      "cell_type": "markdown",
      "source": [
        "## 2.5 Training the model: loss and training operations\n",
        "\n",
        "Now it's time to train the model!\n",
        "\n",
        "At this point, we can think of our next character prediction problem as a standard classification problem. Given the previous state of the RNN, as well as the input at a given time step, we want to predict the class of the next character -- that is, to actually predict the next character. \n",
        "\n",
        "To train our model on this classification task, we can use a form of the `crossentropy` loss (negative log likelihood loss). Specifically, we will use the [`sparse_categorical_crossentropy`](https://www.tensorflow.org/api_docs/python/tf/keras/losses/sparse_categorical_crossentropy) loss, as it utilizes integer targets for categorical classification tasks. We will want to compute the loss using the true targets -- the `labels` -- and the predicted targets -- the `logits`.\n",
        "\n",
        "Let's first compute the loss using our example predictions from the untrained model: "
      ],
      "metadata": {
        "id": "LJL0Q0YPY6Ee"
      }
    },
    {
      "cell_type": "code",
      "execution_count": 19,
      "source": [
        "### Defining the loss function ###\r\n",
        "\r\n",
        "'''TODO: define the loss function to compute and return the loss between\r\n",
        "    the true labels and predictions (logits). Set the argument from_logits=True.'''\r\n",
        "def compute_loss(labels, logits):\r\n",
        "  loss = tf.keras.losses.sparse_categorical_crossentropy(labels, logits, from_logits=True) # TODO\r\n",
        "  return loss\r\n",
        "\r\n",
        "'''TODO: compute the loss using the true next characters from the example batch \r\n",
        "    and the predictions from the untrained model several cells above'''\r\n",
        "example_batch_loss = compute_loss(y,pred) # TODO\r\n",
        "\r\n",
        "print(\"Prediction shape: \", pred.shape, \" # (batch_size, sequence_length, vocab_size)\") \r\n",
        "print(\"scalar_loss:      \", example_batch_loss.numpy().mean())"
      ],
      "outputs": [
        {
          "output_type": "stream",
          "name": "stdout",
          "text": [
            "Prediction shape:  (32, 100, 83)  # (batch_size, sequence_length, vocab_size)\n",
            "scalar_loss:       4.4187984\n"
          ]
        }
      ],
      "metadata": {
        "id": "4HrXTACTdzY-"
      }
    },
    {
      "cell_type": "markdown",
      "source": [
        "Let's start by defining some hyperparameters for training the model. To start, we have provided some reasonable values for some of the parameters. It is up to you to use what we've learned in class to help optimize the parameter selection here!"
      ],
      "metadata": {
        "id": "0Seh7e6eRqd7"
      }
    },
    {
      "cell_type": "code",
      "execution_count": 20,
      "source": [
        "### Hyperparameter setting and optimization ###\r\n",
        "\r\n",
        "# Optimization parameters:\r\n",
        "num_training_iterations = 1500  # Increase this to train longer\r\n",
        "batch_size = 50  # Experiment between 1 and 64\r\n",
        "seq_length = 300  # Experiment between 50 and 500\r\n",
        "learning_rate = 1e-3  # Experiment between 1e-5 and 1e-1\r\n",
        "\r\n",
        "# Model parameters: \r\n",
        "vocab_size = len(vocab)\r\n",
        "embedding_dim = 256 \r\n",
        "rnn_units = 1024  # Experiment between 1 and 2048\r\n",
        "\r\n",
        "# Checkpoint location: \r\n",
        "checkpoint_dir = './training_checkpoints'\r\n",
        "checkpoint_prefix = os.path.join(checkpoint_dir, \"my_ckpt\")"
      ],
      "outputs": [],
      "metadata": {
        "id": "JQWUUhKotkAY"
      }
    },
    {
      "cell_type": "markdown",
      "source": [
        "Now, we are ready to define our training operation -- the optimizer and duration of training -- and use this function to train the model. You will experiment with the choice of optimizer and the duration for which you train your models, and see how these changes affect the network's output. Some optimizers you may like to try are [`Adam`](https://www.tensorflow.org/api_docs/python/tf/keras/optimizers/Adam?version=stable) and [`Adagrad`](https://www.tensorflow.org/api_docs/python/tf/keras/optimizers/Adagrad?version=stable).\n",
        "\n",
        "First, we will instantiate a new model and an optimizer. Then, we will use the [`tf.GradientTape`](https://www.tensorflow.org/api_docs/python/tf/GradientTape) method to perform the backpropagation operations. \n",
        "\n",
        "We will also generate a print-out of the model's progress through training, which will help us easily visualize whether or not we are minimizing the loss."
      ],
      "metadata": {
        "id": "5cu11p1MKYZd"
      }
    },
    {
      "cell_type": "code",
      "execution_count": 21,
      "source": [
        "### Define optimizer and training operation ###\r\n",
        "\r\n",
        "'''TODO: instantiate a new model for training using the `build_model`\r\n",
        "  function and the hyperparameters created above.'''\r\n",
        "model = build_model(vocab_size,embedding_dim,rnn_units,batch_size)\r\n",
        "\r\n",
        "'''TODO: instantiate an optimizer with its learning rate.\r\n",
        "  Checkout the tensorflow website for a list of supported optimizers.\r\n",
        "  https://www.tensorflow.org/api_docs/python/tf/keras/optimizers/\r\n",
        "  Try using the Adam optimizer to start.'''\r\n",
        "optimizer = tf.optimizers.Adam(learning_rate=learning_rate)\r\n",
        "\r\n",
        "@tf.function\r\n",
        "def train_step(x, y): \r\n",
        "  # Use tf.GradientTape()\r\n",
        "  with tf.GradientTape() as tape:\r\n",
        "  \r\n",
        "    '''TODO: feed the current input into the model and generate predictions'''\r\n",
        "    y_hat = model(x)\r\n",
        "  \r\n",
        "    '''TODO: compute the loss!'''\r\n",
        "    loss = compute_loss(y, y_hat)\r\n",
        "\r\n",
        "  # Now, compute the gradients \r\n",
        "  '''TODO: complete the function call for gradient computation. \r\n",
        "      Remember that we want the gradient of the loss with respect all \r\n",
        "      of the model parameters. \r\n",
        "      HINT: use `model.trainable_variables` to get a list of all model\r\n",
        "      parameters.'''\r\n",
        "  grads = tape.gradient(loss, model.trainable_variables)\r\n",
        "  \r\n",
        "  # Apply the gradients to the optimizer so it can update the model accordingly\r\n",
        "  optimizer.apply_gradients(zip(grads, model.trainable_variables))\r\n",
        "  return loss\r\n",
        "\r\n",
        "##################\r\n",
        "# Begin training!#\r\n",
        "##################\r\n",
        "\r\n",
        "history = []\r\n",
        "plotter = mdl.util.PeriodicPlotter(sec=2, xlabel='Iterations', ylabel='Loss')\r\n",
        "if hasattr(tqdm, '_instances'): tqdm._instances.clear() # clear if it exists\r\n",
        "\r\n",
        "for iter in tqdm(range(num_training_iterations)):\r\n",
        "\r\n",
        "  # Grab a batch and propagate it through the network\r\n",
        "  x_batch, y_batch = get_batch(vectorized_songs, seq_length, batch_size)\r\n",
        "  loss = train_step(x_batch, y_batch)\r\n",
        "\r\n",
        "  # Update the progress bar\r\n",
        "  history.append(loss.numpy().mean())\r\n",
        "  plotter.plot(history)\r\n",
        "\r\n",
        "  # Update the model with the changed weights!\r\n",
        "  if iter % 100 == 0:     \r\n",
        "    model.save_weights(checkpoint_prefix)\r\n",
        "    \r\n",
        "# Save the trained model and the weights\r\n",
        "model.save_weights(checkpoint_prefix)\r\n"
      ],
      "outputs": [
        {
          "output_type": "display_data",
          "data": {
            "image/png": "[encoded data removed]",
            "text/plain": [
              "<Figure size 432x288 with 1 Axes>"
            ]
          },
          "metadata": {}
        },
        {
          "output_type": "stream",
          "name": "stderr",
          "text": [
            "100%|██████████| 1500/1500 [06:57<00:00,  3.59it/s]\n"
          ]
        },
        {
          "output_type": "display_data",
          "data": {
            "image/png": "[encoded data removed]",
            "text/plain": [
              "<Figure size 432x288 with 1 Axes>"
            ]
          },
          "metadata": {
            "needs_background": "light"
          }
        }
      ],
      "metadata": {
        "id": "F31vzJ_u66cb"
      }
    },
    {
      "cell_type": "markdown",
      "source": [
        "## 2.6 Generate music using the RNN model\n",
        "\n",
        "Now, we can use our trained RNN model to generate some music! When generating music, we'll have to feed the model some sort of seed to get it started (because it can't predict anything without something to start with!).\n",
        "\n",
        "Once we have a generated seed, we can then iteratively predict each successive character (remember, we are using the ABC representation for our music) using our trained RNN. More specifically, recall that our RNN outputs a `softmax` over possible successive characters. For inference, we iteratively sample from these distributions, and then use our samples to encode a generated song in the ABC format.\n",
        "\n",
        "Then, all we have to do is write it to a file and listen!"
      ],
      "metadata": {
        "id": "kKkD5M6eoSiN"
      }
    },
    {
      "cell_type": "markdown",
      "source": [
        "### Restore the latest checkpoint\n",
        "\n",
        "To keep this inference step simple, we will use a batch size of 1. Because of how the RNN state is passed from timestep to timestep, the model will only be able to accept a fixed batch size once it is built. \n",
        "\n",
        "To run the model with a different `batch_size`, we'll need to rebuild the model and restore the weights from the latest checkpoint, i.e., the weights after the last checkpoint during training:"
      ],
      "metadata": {
        "id": "JIPcXllKjkdr"
      }
    },
    {
      "cell_type": "code",
      "execution_count": 26,
      "source": [
        "'''TODO: Rebuild the model using a batch_size=1'''\r\n",
        "model = build_model(vocab_size, embedding_dim, rnn_units, batch_size=1)\r\n",
        "\r\n",
        "# Restore the model weights for the last checkpoint after training\r\n",
        "model.load_weights(tf.train.latest_checkpoint(checkpoint_dir))\r\n",
        "model.build(tf.TensorShape([1, None]))\r\n",
        "\r\n",
        "model.summary()"
      ],
      "outputs": [
        {
          "output_type": "stream",
          "name": "stdout",
          "text": [
            "Model: \"sequential_3\"\n",
            "_________________________________________________________________\n",
            "Layer (type)                 Output Shape              Param #   \n",
            "=================================================================\n",
            "embedding_3 (Embedding)      (1, None, 256)            21248     \n",
            "_________________________________________________________________\n",
            "lstm_3 (LSTM)                (1, None, 1024)           5246976   \n",
            "_________________________________________________________________\n",
            "dense_3 (Dense)              (1, None, 83)             85075     \n",
            "=================================================================\n",
            "Total params: 5,353,299\n",
            "Trainable params: 5,353,299\n",
            "Non-trainable params: 0\n",
            "_________________________________________________________________\n"
          ]
        }
      ],
      "metadata": {
        "id": "LycQ-ot_jjyu"
      }
    },
    {
      "cell_type": "markdown",
      "source": [
        "Notice that we have fed in a fixed `batch_size` of 1 for inference."
      ],
      "metadata": {
        "id": "I9b4V2C8N62l"
      }
    },
    {
      "cell_type": "markdown",
      "source": [
        "### The prediction procedure\n",
        "\n",
        "Now, we're ready to write the code to generate text in the ABC music format:\n",
        "\n",
        "* Initialize a \"seed\" start string and the RNN state, and set the number of characters we want to generate.\n",
        "\n",
        "* Use the start string and the RNN state to obtain the probability distribution over the next predicted character.\n",
        "\n",
        "* Sample from multinomial distribution to calculate the index of the predicted character. This predicted character is then used as the next input to the model.\n",
        "\n",
        "* At each time step, the updated RNN state is fed back into the model, so that it now has more context in making the next prediction. After predicting the next character, the updated RNN states are again fed back into the model, which is how it learns sequence dependencies in the data, as it gets more information from the previous predictions.\n",
        "\n",
        "![LSTM inference](https://raw.githubusercontent.com/aamini/introtodeeplearning/2019/lab1/img/lstm_inference.png)\n",
        "\n",
        "Complete and experiment with this code block (as well as some of the aspects of network definition and training!), and see how the model performs. How do songs generated after training with a small number of epochs compare to those generated after a longer duration of training?"
      ],
      "metadata": {
        "id": "DjGz1tDkzf-u"
      }
    },
    {
      "cell_type": "code",
      "execution_count": 28,
      "source": [
        "### Prediction of a generated song ###\r\n",
        "\r\n",
        "def generate_text(model, start_string, generation_length=1000):\r\n",
        "  # Evaluation step (generating ABC text using the learned RNN model)\r\n",
        "\r\n",
        "  '''TODO: convert the start string to numbers (vectorize)'''\r\n",
        "  input_eval = vectorize_string(start_string)\r\n",
        "  input_eval = tf.expand_dims(input_eval, 0)\r\n",
        "\r\n",
        "  # Empty string to store our results\r\n",
        "  text_generated = []\r\n",
        "\r\n",
        "  # Here batch size == 1\r\n",
        "  model.reset_states()\r\n",
        "  tqdm._instances.clear()\r\n",
        "\r\n",
        "  for i in tqdm(range(generation_length)):\r\n",
        "      '''TODO: evaluate the inputs and generate the next character predictions'''\r\n",
        "      predictions = model(input_eval)\r\n",
        "      \r\n",
        "      # Remove the batch dimension\r\n",
        "      predictions = tf.squeeze(predictions, 0)\r\n",
        "      \r\n",
        "      '''TODO: use a multinomial distribution to sample'''\r\n",
        "      predicted_id = tf.random.categorical(predictions, num_samples=1)[-1,0].numpy()\r\n",
        "      \r\n",
        "      # Pass the prediction along with the previous hidden state\r\n",
        "      #   as the next inputs to the model\r\n",
        "      input_eval = tf.expand_dims([predicted_id], 0)\r\n",
        "      \r\n",
        "      '''TODO: add the predicted character to the generated text!'''\r\n",
        "      # Hint: consider what format the prediction is in vs. the output\r\n",
        "      text_generated.append(idx2char[predicted_id])\r\n",
        "    \r\n",
        "  return (start_string + ''.join(text_generated))"
      ],
      "outputs": [],
      "metadata": {
        "id": "WvuwZBX5Ogfd"
      }
    },
    {
      "cell_type": "code",
      "execution_count": 29,
      "source": [
        "'''TODO: Use the model and the function defined above to generate ABC format text of length 1000!\r\n",
        "    As you may notice, ABC files start with \"X\" - this may be a good start string.'''\r\n",
        "generated_text = generate_text(model, start_string=\"X\", generation_length=1000) # TODO\r\n",
        "# generated_text = generate_text('''TODO''', start_string=\"X\", generation_length=1000)"
      ],
      "outputs": [
        {
          "output_type": "stream",
          "name": "stderr",
          "text": [
            "100%|██████████| 1000/1000 [00:04<00:00, 216.17it/s]\n"
          ]
        }
      ],
      "metadata": {
        "id": "ktovv0RFhrkn"
      }
    },
    {
      "cell_type": "markdown",
      "source": [
        "### Play back the generated music!\n",
        "\n",
        "We can now call a function to convert the ABC format text to an audio file, and then play that back to check out our generated music! Try training longer if the resulting song is not long enough, or re-generating the song!"
      ],
      "metadata": {
        "id": "AM2Uma_-yVIq"
      }
    },
    {
      "cell_type": "code",
      "execution_count": 30,
      "source": [
        "### Play back generated songs ###\r\n",
        "\r\n",
        "generated_songs = mdl.lab1.extract_song_snippet(generated_text)\r\n",
        "\r\n",
        "for i, song in enumerate(generated_songs): \r\n",
        "  print(song + \"\\n\")\r\n",
        "  \r\n",
        "  # Synthesize the waveform from a song\r\n",
        "  waveform = mdl.lab1.play_song(song)\r\n",
        "\r\n",
        "  # If its a valid song (correct syntax), lets play it! \r\n",
        "  if waveform:\r\n",
        "    print(\"Generated song\", i)\r\n",
        "    ipythondisplay.display(waveform)"
      ],
      "outputs": [
        {
          "output_type": "stream",
          "name": "stdout",
          "text": [
            "Found 2 songs in text\n",
            "X:61\n",
            "T:Hyrkenplar\n",
            "Z: id:dc-reel-151\n",
            "M:C\n",
            "L:1/8\n",
            "K:D Major\n",
            "c|d4 d2B|def g3|a3 D2e|f2dfedce defg|a2f2 afe2|f2df edBc|d4 d2:|!\n",
            "\n",
            "X:21\n",
            "T:Marrie Wrest\n",
            "Z: id:dc-ocarolan-3\n",
            "M:3/4\n",
            "L:1/8\n",
            "K:E Minor\n",
            "ef|gf ga ba|g2 gf ge|d2 g2 f2|g2 fg af|g2 f2 c2|!\n",
            "d3 e dg|f2 e2 d2|B3 A Bc|!\n",
            "d2 d2 d2|B2 c2 d2|e4 f2|g4 fe|e2 e2 d2|d4 fe|d4 A2|B4 G2|A4 B2|A4 fan\n",
            "Z: id:dc-reel-42\n",
            "M:C\n",
            "L:1/8\n",
            "K:E Minor\n",
            "E|DBBA B2AB|dBAB G2B,D|A,DB,2 DB,A,2|B,EE2 FEDE|FBBA B3:|!\n",
            "AFF2 ABdf|eBB2 fefe|dece afeA|Bcde f2ed|!\n",
            "efed BcdB|BAGB ABde|faeg fddA|!\n",
            "Bee BedB|F2AF DFAB|cBBA BAFA|!\n",
            "E2BE BEEG|Bdef gfed|cdef gfec|dffe d2|]!\n",
            "\n"
          ]
        }
      ],
      "metadata": {
        "id": "LrOtG64bfLto"
      }
    },
    {
      "cell_type": "markdown",
      "source": [
        "## 2.7 Experiment and **get awarded for the best songs**!\n",
        "\n",
        "Congrats on making your first sequence model in TensorFlow! It's a pretty big accomplishment, and hopefully you have some sweet tunes to show for it.\n",
        "\n",
        "Consider how you may improve your model and what seems to be most important in terms of performance. Here are some ideas to get you started:\n",
        "\n",
        "*  How does the number of training epochs affect the performance?\n",
        "*  What if you alter or augment the dataset? \n",
        "*  Does the choice of start string significantly affect the result? \n",
        "\n",
        "Try to optimize your model and submit your best song! **MIT students and affiliates will be eligible for prizes during the IAP offering**. To enter the competition, MIT students and affiliates should upload the following to the course Canvas:\n",
        "\n",
        "* a recording of your song;\n",
        "* iPython notebook with the code you used to generate the song;\n",
        "* a description and/or diagram of the architecture and hyperparameters you used -- if there are any additional or interesting modifications you made to the template code, please include these in your description.\n",
        "\n",
        "You can also tweet us at [@MITDeepLearning](https://twitter.com/MITDeepLearning) a copy of the song! See this example song generated by a previous 6.S191 student (credit Ana Heart): <a href=\"https://twitter.com/AnaWhatever16/status/1263092914680410112?s=20\">song from May 20, 2020.</a>\n",
        "<script async src=\"https://platform.twitter.com/widgets.js\" charset=\"utf-8\"></script>\n",
        "\n",
        "Have fun and happy listening!\n",
        "\n",
        "![Let's Dance!](http://33.media.tumblr.com/3d223954ad0a77f4e98a7b87136aa395/tumblr_nlct5lFVbF1qhu7oio1_500.gif)"
      ],
      "metadata": {
        "id": "HgVvcrYmSKGG"
      }
    }
  ]
}