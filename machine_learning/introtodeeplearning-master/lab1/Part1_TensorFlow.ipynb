{
  "nbformat": 4,
  "nbformat_minor": 2,
  "metadata": {
    "colab": {
      "name": "Part1_TensorFlow.ipynb",
      "provenance": [],
      "collapsed_sections": [
        "WBk0ZDWY-ff8"
      ]
    },
    "kernelspec": {
      "name": "python3",
      "display_name": "Python 3.9.0 64-bit"
    },
    "accelerator": "GPU",
    "language_info": {
      "name": "python",
      "version": "3.9.0",
      "mimetype": "text/x-python",
      "codemirror_mode": {
        "name": "ipython",
        "version": 3
      },
      "pygments_lexer": "ipython3",
      "nbconvert_exporter": "python",
      "file_extension": ".py"
    },
    "interpreter": {
      "hash": "8aa8362771f09199fa2555da6b05733ce08ed364b1b18a9023dfc7c3066aed74"
    }
  },
  "cells": [
    {
      "cell_type": "markdown",
      "source": [
        "<table align=\"center\">\n",
        "  <td align=\"center\"><a target=\"_blank\" href=\"http://introtodeeplearning.com\">\n",
        "        <img src=\"https://i.ibb.co/Jr88sn2/mit.png\" style=\"padding-bottom:5px;\" />\n",
        "      Visit MIT Deep Learning</a></td>\n",
        "  <td align=\"center\"><a target=\"_blank\" href=\"https://colab.research.google.com/github/aamini/introtodeeplearning/blob/master/lab1/Part1_TensorFlow.ipynb\">\n",
        "        <img src=\"https://i.ibb.co/2P3SLwK/colab.png\"  style=\"padding-bottom:5px;\" />Run in Google Colab</a></td>\n",
        "  <td align=\"center\"><a target=\"_blank\" href=\"https://github.com/aamini/introtodeeplearning/blob/master/lab1/Part1_TensorFlow.ipynb\">\n",
        "        <img src=\"https://i.ibb.co/xfJbPmL/github.png\"  height=\"70px\" style=\"padding-bottom:5px;\"  />View Source on GitHub</a></td>\n",
        "</table>\n",
        "\n",
        "\n",
        "# Copyright Information\n"
      ],
      "metadata": {
        "id": "WBk0ZDWY-ff8"
      }
    },
    {
      "cell_type": "code",
      "execution_count": 3,
      "source": [
        "# Copyright 2021 MIT 6.S191 Introduction to Deep Learning. All Rights Reserved.\r\n",
        "# \r\n",
        "# Licensed under the MIT License. You may not use this file except in compliance\r\n",
        "# with the License. Use and/or modification of this code outside of 6.S191 must\r\n",
        "# reference:\r\n",
        "#\r\n",
        "# © MIT 6.S191: Introduction to Deep Learning\r\n",
        "# http://introtodeeplearning.com\r\n",
        "#"
      ],
      "outputs": [],
      "metadata": {
        "id": "3eI6DUic-6jo"
      }
    },
    {
      "cell_type": "markdown",
      "source": [
        "# Lab 1: Intro to TensorFlow and Music Generation with RNNs\n",
        "\n",
        "In this lab, you'll get exposure to using TensorFlow and learn how it can be used for solving deep learning tasks. Go through the code and run each cell. Along the way, you'll encounter several ***TODO*** blocks -- follow the instructions to fill them out before running those cells and continuing.\n",
        "\n",
        "\n",
        "# Part 1: Intro to TensorFlow\n",
        "\n",
        "## 0.1 Install TensorFlow\n",
        "\n",
        "TensorFlow is a software library extensively used in machine learning. Here we'll learn how computations are represented and how to define a simple neural network in TensorFlow. For all the labs in 6.S191 2021, we'll be using the latest version of TensorFlow, TensorFlow 2, which affords great flexibility and the ability to imperatively execute operations, just like in Python. You'll notice that TensorFlow 2 is quite similar to Python in its syntax and imperative execution. Let's install TensorFlow and a couple of dependencies.\n"
      ],
      "metadata": {
        "id": "57knM8jrYZ2t"
      }
    },
    {
      "cell_type": "code",
      "execution_count": 4,
      "source": [
        "# %tensorflow_version 2.x\r\n",
        "import tensorflow as tf\r\n",
        "\r\n",
        "# Download and import the MIT 6.S191 package\r\n",
        "# !pip install mitdeeplearning\r\n",
        "import mitdeeplearning as mdl\r\n",
        "\r\n",
        "import numpy as np\r\n",
        "import matplotlib.pyplot as plt"
      ],
      "outputs": [],
      "metadata": {
        "id": "LkaimNJfYZ2w"
      }
    },
    {
      "cell_type": "markdown",
      "source": [
        "## 1.1 Why is TensorFlow called TensorFlow?\n",
        "\n",
        "TensorFlow is called 'TensorFlow' because it handles the flow (node/mathematical operation) of Tensors, which are data structures that you can think of as multi-dimensional arrays. Tensors are represented as n-dimensional arrays of base dataypes such as a string or integer -- they provide a way to generalize vectors and matrices to higher dimensions.\n",
        "\n",
        "The ```shape``` of a Tensor defines its number of dimensions and the size of each dimension. The ```rank``` of a Tensor provides the number of dimensions (n-dimensions) -- you can also think of this as the Tensor's order or degree.\n",
        "\n",
        "Let's first look at 0-d Tensors, of which a scalar is an example:"
      ],
      "metadata": {
        "id": "2QNMcdP4m3Vs"
      }
    },
    {
      "cell_type": "code",
      "execution_count": 5,
      "source": [
        "sport = tf.constant(\"Tennis\", tf.string)\r\n",
        "number = tf.constant(1.41421356237, tf.float64)\r\n",
        "\r\n",
        "print(\"`sport` is a {}-d Tensor\".format(tf.rank(sport).numpy()))\r\n",
        "print(\"`number` is a {}-d Tensor\".format(tf.rank(number).numpy()))"
      ],
      "outputs": [
        {
          "output_type": "stream",
          "name": "stdout",
          "text": [
            "`sport` is a 0-d Tensor\n",
            "`number` is a 0-d Tensor\n"
          ]
        }
      ],
      "metadata": {
        "id": "tFxztZQInlAB"
      }
    },
    {
      "cell_type": "markdown",
      "source": [
        "Vectors and lists can be used to create 1-d Tensors:"
      ],
      "metadata": {
        "id": "-dljcPUcoJZ6"
      }
    },
    {
      "cell_type": "code",
      "execution_count": 6,
      "source": [
        "sports = tf.constant([\"Tennis\", \"Basketball\"], tf.string)\r\n",
        "numbers = tf.constant([3.141592, 1.414213, 2.71821], tf.float64)\r\n",
        "\r\n",
        "print(\"`sports` is {}-d Tensor with shape: {}\".format(tf.rank(sports).numpy(), tf.shape(sports)))\r\n",
        "print(\"`numbers` is a {}-d Tensor with shape: {}\".format(tf.rank(numbers).numpy(), tf.shape(numbers)))"
      ],
      "outputs": [
        {
          "output_type": "stream",
          "name": "stdout",
          "text": [
            "`sports` is 1-d Tensor with shape: [2]\n",
            "`numbers` is a 1-d Tensor with shape: [3]\n"
          ]
        }
      ],
      "metadata": {
        "id": "oaHXABe8oPcO"
      }
    },
    {
      "cell_type": "markdown",
      "source": [
        "Next we consider creating 2-d (i.e., matrices) and higher-rank Tensors. For examples, in future labs involving image processing and computer vision, we will use 4-d Tensors. Here the dimensions correspond to the number of example images in our batch, image height, image width, and the number of color channels."
      ],
      "metadata": {
        "id": "gvffwkvtodLP"
      }
    },
    {
      "cell_type": "code",
      "execution_count": 7,
      "source": [
        "### Defining higher-order Tensors ###\r\n",
        "\r\n",
        "'''TODO: Define a 2-d Tensor'''\r\n",
        "matrix = tf.constant([[1,2,3],[4,5,6]])\r\n",
        "\r\n",
        "assert isinstance(matrix, tf.Tensor), \"matrix must be a tf Tensor object\"\r\n",
        "assert tf.rank(matrix).numpy() == 2"
      ],
      "outputs": [],
      "metadata": {
        "id": "tFeBBe1IouS3"
      }
    },
    {
      "cell_type": "code",
      "execution_count": 8,
      "source": [
        "'''TODO: Define a 4-d Tensor.'''\r\n",
        "# Use tf.zeros to initialize a 4-d Tensor of zeros with size 10 x 256 x 256 x 3. \r\n",
        "#   You can think of this as 10 images where each image is RGB 256 x 256.\r\n",
        "images = tf.zeros([10,256,256,3])\r\n",
        "\r\n",
        "assert isinstance(images, tf.Tensor), \"matrix must be a tf Tensor object\"\r\n",
        "assert tf.rank(images).numpy() == 4, \"matrix must be of rank 4\"\r\n",
        "assert tf.shape(images).numpy().tolist() == [10, 256, 256, 3], \"matrix is incorrect shape\""
      ],
      "outputs": [],
      "metadata": {
        "id": "Zv1fTn_Ya_cz"
      }
    },
    {
      "cell_type": "markdown",
      "source": [
        "As you have seen, the ```shape``` of a Tensor provides the number of elements in each Tensor dimension. The ```shape``` is quite useful, and we'll use it often. You can also use slicing to access subtensors within a higher-rank Tensor:"
      ],
      "metadata": {
        "id": "wkaCDOGapMyl"
      }
    },
    {
      "cell_type": "code",
      "execution_count": 9,
      "source": [
        "row_vector = matrix[1]\r\n",
        "column_vector = matrix[:,2]\r\n",
        "scalar = matrix[1, 2]\r\n",
        "\r\n",
        "print(\"`row_vector`: {}\".format(row_vector.numpy()))\r\n",
        "print(\"`column_vector`: {}\".format(column_vector.numpy()))\r\n",
        "print(\"`scalar`: {}\".format(scalar.numpy()))"
      ],
      "outputs": [
        {
          "output_type": "stream",
          "name": "stdout",
          "text": [
            "`row_vector`: [4 5 6]\n",
            "`column_vector`: [3 6]\n",
            "`scalar`: 6\n"
          ]
        }
      ],
      "metadata": {
        "id": "FhaufyObuLEG"
      }
    },
    {
      "cell_type": "markdown",
      "source": [
        "## 1.2 Computations on Tensors\n",
        "\n",
        "A convenient way to think about and visualize computations in TensorFlow is in terms of graphs. We can define this graph in terms of Tensors, which hold data, and the mathematical operations that act on these Tensors in some order. Let's look at a simple example, and define this computation using TensorFlow:\n",
        "\n",
        "![alt text](https://raw.githubusercontent.com/aamini/introtodeeplearning/master/lab1/img/add-graph.png)"
      ],
      "metadata": {
        "id": "iD3VO-LZYZ2z"
      }
    },
    {
      "cell_type": "code",
      "execution_count": 10,
      "source": [
        "# Create the nodes in the graph, and initialize values\r\n",
        "a = tf.constant(15)\r\n",
        "b = tf.constant(61)\r\n",
        "\r\n",
        "# Add them!\r\n",
        "c1 = tf.add(a,b)\r\n",
        "c2 = a + b # TensorFlow overrides the \"+\" operation so that it is able to act on Tensors\r\n",
        "print(c1)\r\n",
        "print(c2)"
      ],
      "outputs": [
        {
          "output_type": "stream",
          "name": "stdout",
          "text": [
            "tf.Tensor(76, shape=(), dtype=int32)\n",
            "tf.Tensor(76, shape=(), dtype=int32)\n"
          ]
        }
      ],
      "metadata": {
        "id": "X_YJrZsxYZ2z"
      }
    },
    {
      "cell_type": "markdown",
      "source": [
        "Notice how we've created a computation graph consisting of TensorFlow operations, and how  the output is a Tensor with value 76 -- we've just created a computation graph consisting of operations, and it's executed them and given us back the result.\n",
        "\n",
        "Now let's consider a slightly more complicated example:\n",
        "\n",
        "![alt text](https://raw.githubusercontent.com/aamini/introtodeeplearning/master/lab1/img/computation-graph.png)\n",
        "\n",
        "Here, we take two inputs, `a, b`, and compute an output `e`. Each node in the graph represents an operation that takes some input, does some computation, and passes its output to another node.\n",
        "\n",
        "Let's define a simple function in TensorFlow to construct this computation function:"
      ],
      "metadata": {
        "id": "Mbfv_QOiYZ23"
      }
    },
    {
      "cell_type": "code",
      "execution_count": 11,
      "source": [
        "### Defining Tensor computations ###\r\n",
        "\r\n",
        "# Construct a simple computation function\r\n",
        "def func(a,b):\r\n",
        "  '''TODO: Define the operation for c, d, e (use tf.add, tf.subtract, tf.multiply).'''\r\n",
        "  c = tf.add(a,b)\r\n",
        "  d = tf.subtract(b,1)\r\n",
        "  e = tf.multiply(c,d)\r\n",
        "  return e"
      ],
      "outputs": [],
      "metadata": {
        "scrolled": true,
        "id": "PJnfzpWyYZ23"
      }
    },
    {
      "cell_type": "markdown",
      "source": [
        "Now, we can call this function to execute the computation graph given some inputs `a,b`:"
      ],
      "metadata": {
        "id": "AwrRfDMS2-oy"
      }
    },
    {
      "cell_type": "code",
      "execution_count": 12,
      "source": [
        "# Consider example values for a,b\r\n",
        "a, b = 1.5, 2.5\r\n",
        "# Execute the computation\r\n",
        "e_out = func(a,b)\r\n",
        "print(e_out)"
      ],
      "outputs": [
        {
          "output_type": "stream",
          "name": "stdout",
          "text": [
            "tf.Tensor(6.0, shape=(), dtype=float32)\n"
          ]
        }
      ],
      "metadata": {
        "id": "pnwsf8w2uF7p"
      }
    },
    {
      "cell_type": "markdown",
      "source": [
        "Notice how our output is a Tensor with value defined by the output of the computation, and that the output has no shape as it is a single scalar value."
      ],
      "metadata": {
        "id": "6HqgUIUhYZ29"
      }
    },
    {
      "cell_type": "markdown",
      "source": [
        "## 1.3 Neural networks in TensorFlow\n",
        "We can also define neural networks in TensorFlow. TensorFlow uses a high-level API called [Keras](https://www.tensorflow.org/guide/keras) that provides a powerful, intuitive framework for building and training deep learning models.\n",
        "\n",
        "Let's first consider the example of a simple perceptron defined by just one dense layer: $ y = \\sigma(Wx + b)$, where $W$ represents a matrix of weights, $b$ is a bias, $x$ is the input, $\\sigma$ is the sigmoid activation function, and $y$ is the output. We can also visualize this operation using a graph: \n",
        "\n",
        "![alt text](https://raw.githubusercontent.com/aamini/introtodeeplearning/master/lab1/img/computation-graph-2.png)\n",
        "\n",
        "Tensors can flow through abstract types called [```Layers```](https://www.tensorflow.org/api_docs/python/tf/keras/layers/Layer) -- the building blocks of neural networks. ```Layers``` implement common neural networks operations, and are used to update weights, compute losses, and define inter-layer connectivity. We will first define a ```Layer``` to implement the simple perceptron defined above."
      ],
      "metadata": {
        "id": "1h4o9Bb0YZ29"
      }
    },
    {
      "cell_type": "code",
      "execution_count": 13,
      "source": [
        "### Defining a network Layer ###\r\n",
        "\r\n",
        "# n_output_nodes: number of output nodes\r\n",
        "# input_shape: shape of the input\r\n",
        "# x: input to the layer\r\n",
        "\r\n",
        "class OurDenseLayer(tf.keras.layers.Layer):\r\n",
        "  def __init__(self, n_output_nodes):\r\n",
        "    super(OurDenseLayer, self).__init__()\r\n",
        "    self.n_output_nodes = n_output_nodes\r\n",
        "\r\n",
        "  def build(self, input_shape):\r\n",
        "    d = int(input_shape[-1])\r\n",
        "    # Define and initialize parameters: a weight matrix W and bias b\r\n",
        "    # Note that parameter initialization is random!\r\n",
        "    self.W = self.add_weight(\"weight\", shape=[d, self.n_output_nodes]) # note the dimensionality\r\n",
        "    self.b = self.add_weight(\"bias\", shape=[1, self.n_output_nodes]) # note the dimensionality\r\n",
        "\r\n",
        "  def call(self, x):\r\n",
        "    '''TODO: define the operation for z (hint: use tf.matmul)'''\r\n",
        "    z = x @ self.W + self.b\r\n",
        "\r\n",
        "    '''TODO: define the operation for out (hint: use tf.sigmoid)'''\r\n",
        "    y = tf.sigmoid(z)\r\n",
        "    return y\r\n",
        "\r\n",
        "# Since layer parameters are initialized randomly, we will set a random seed for reproducibility\r\n",
        "tf.random.set_seed(1)\r\n",
        "layer = OurDenseLayer(3)\r\n",
        "layer.build((1,2))\r\n",
        "x_input = tf.constant([[1,2.]], shape=(1,2))\r\n",
        "y = layer.call(x_input)\r\n",
        "\r\n",
        "# test the output!\r\n",
        "print(y.numpy())\r\n",
        "mdl.lab1.test_custom_dense_layer_output(y)"
      ],
      "outputs": [
        {
          "output_type": "stream",
          "name": "stdout",
          "text": [
            "[[0.26978594 0.45750415 0.66536945]]\n",
            "[PASS] test_custom_dense_layer_output\n"
          ]
        },
        {
          "output_type": "execute_result",
          "data": {
            "text/plain": [
              "True"
            ]
          },
          "metadata": {},
          "execution_count": 13
        }
      ],
      "metadata": {
        "id": "HutbJk-1kHPh"
      }
    },
    {
      "cell_type": "markdown",
      "source": [
        "Conveniently, TensorFlow has defined a number of ```Layers``` that are commonly used in neural networks, for example a [```Dense```](https://www.tensorflow.org/api_docs/python/tf/keras/layers/Dense?version=stable). Now, instead of using a single ```Layer``` to define our simple neural network, we'll use the  [`Sequential`](https://www.tensorflow.org/versions/r2.0/api_docs/python/tf/keras/Sequential) model from Keras and a single [`Dense` ](https://www.tensorflow.org/versions/r2.0/api_docs/python/tf/keras/layers/Dense) layer to define our network. With the `Sequential` API, you can readily create neural networks by stacking together layers like building blocks. "
      ],
      "metadata": {
        "id": "Jt1FgM7qYZ3D"
      }
    },
    {
      "cell_type": "code",
      "execution_count": 15,
      "source": [
        "### Defining a neural network using the Sequential API ###\r\n",
        "\r\n",
        "# Import relevant packages\r\n",
        "from tensorflow.keras import Sequential\r\n",
        "from tensorflow.keras.layers import Dense\r\n",
        "\r\n",
        "# Define the number of outputs\r\n",
        "n_output_nodes = 3\r\n",
        "\r\n",
        "# First define the model \r\n",
        "model = Sequential()\r\n",
        "\r\n",
        "'''TODO: Define a dense (fully connected) layer to compute z'''\r\n",
        "# Remember: dense layers are defined by the parameters W and b!\r\n",
        "# You can read more about the initialization of W and b in the TF documentation :) \r\n",
        "# https://www.tensorflow.org/api_docs/python/tf/keras/layers/Dense?version=stable\r\n",
        "dense_layer = Dense(n_output_nodes)\r\n",
        "\r\n",
        "# Add the dense layer to the model\r\n",
        "model.add(dense_layer)\r\n"
      ],
      "outputs": [],
      "metadata": {
        "id": "7WXTpmoL6TDz"
      }
    },
    {
      "cell_type": "markdown",
      "source": [
        "That's it! We've defined our model using the Sequential API. Now, we can test it out using an example input:"
      ],
      "metadata": {
        "id": "HDGcwYfUyR-U"
      }
    },
    {
      "cell_type": "code",
      "execution_count": 18,
      "source": [
        "# Test model with example input\r\n",
        "x_input = tf.constant([[1,2.]], shape=(1,2))\r\n",
        "\r\n",
        "'''TODO: feed input into the model and predict the output!'''\r\n",
        "model_output = model(x_input)\r\n",
        "print(model_output)"
      ],
      "outputs": [
        {
          "output_type": "stream",
          "name": "stdout",
          "text": [
            "tf.Tensor([[ 0.24415088  0.6485772  -1.9461871 ]], shape=(1, 3), dtype=float32)\n"
          ]
        }
      ],
      "metadata": {
        "id": "sg23OczByRDb"
      }
    },
    {
      "cell_type": "markdown",
      "source": [
        "In addition to defining models using the `Sequential` API, we can also define neural networks by directly subclassing the [`Model`](https://www.tensorflow.org/api_docs/python/tf/keras/Model?version=stable) class, which groups layers together to enable model training and inference. The `Model` class captures what we refer to as a \"model\" or as a \"network\". Using Subclassing, we can create a class for our model, and then define the forward pass through the network using the `call` function. Subclassing affords the flexibility to define custom layers, custom training loops, custom activation functions, and custom models. Let's define the same neural network as above now using Subclassing rather than the `Sequential` model."
      ],
      "metadata": {
        "id": "596NvsOOtr9F"
      }
    },
    {
      "cell_type": "code",
      "execution_count": 20,
      "source": [
        "### Defining a model using subclassing ###\r\n",
        "\r\n",
        "from tensorflow.keras import Model\r\n",
        "from tensorflow.keras.layers import Dense\r\n",
        "\r\n",
        "class SubclassModel(tf.keras.Model):\r\n",
        "\r\n",
        "  # In __init__, we define the Model's layers\r\n",
        "  def __init__(self, n_output_nodes):\r\n",
        "    super(SubclassModel, self).__init__()\r\n",
        "    '''TODO: Our model consists of a single Dense layer. Define this layer.''' \r\n",
        "    self.dense_layer = Dense(n_output_nodes)\r\n",
        "\r\n",
        "  # In the call function, we define the Model's forward pass.\r\n",
        "  def call(self, inputs):\r\n",
        "    return self.dense_layer(inputs)"
      ],
      "outputs": [],
      "metadata": {
        "id": "K4aCflPVyViD"
      }
    },
    {
      "cell_type": "markdown",
      "source": [
        "Just like the model we built using the `Sequential` API, let's test out our `SubclassModel` using an example input.\n",
        "\n"
      ],
      "metadata": {
        "id": "U0-lwHDk4irB"
      }
    },
    {
      "cell_type": "code",
      "execution_count": 21,
      "source": [
        "n_output_nodes = 3\r\n",
        "model = SubclassModel(n_output_nodes)\r\n",
        "\r\n",
        "x_input = tf.constant([[1,2.]], shape=(1,2))\r\n",
        "\r\n",
        "print(model.call(x_input))"
      ],
      "outputs": [
        {
          "output_type": "stream",
          "name": "stdout",
          "text": [
            "tf.Tensor([[ 0.62118787 -0.08692831  1.6387595 ]], shape=(1, 3), dtype=float32)\n"
          ]
        }
      ],
      "metadata": {
        "id": "LhB34RA-4gXb"
      }
    },
    {
      "cell_type": "markdown",
      "source": [
        "Importantly, Subclassing affords us a lot of flexibility to define custom models. For example, we can use boolean arguments in the `call` function to specify different network behaviors, for example different behaviors during training and inference. Let's suppose under some instances we want our network to simply output the input, without any perturbation. We define a boolean argument `isidentity` to control this behavior:"
      ],
      "metadata": {
        "id": "HTIFMJLAzsyE"
      }
    },
    {
      "cell_type": "code",
      "execution_count": 22,
      "source": [
        "### Defining a model using subclassing and specifying custom behavior ###\r\n",
        "\r\n",
        "from tensorflow.keras import Model\r\n",
        "from tensorflow.keras.layers import Dense\r\n",
        "\r\n",
        "class IdentityModel(tf.keras.Model):\r\n",
        "\r\n",
        "  # As before, in __init__ we define the Model's layers\r\n",
        "  # Since our desired behavior involves the forward pass, this part is unchanged\r\n",
        "  def __init__(self, n_output_nodes):\r\n",
        "    super(IdentityModel, self).__init__()\r\n",
        "    self.dense_layer = tf.keras.layers.Dense(n_output_nodes, activation='sigmoid')\r\n",
        "\r\n",
        "  '''TODO: Implement the behavior where the network outputs the input, unchanged, \r\n",
        "      under control of the isidentity argument.'''\r\n",
        "  def call(self, inputs, isidentity=False):\r\n",
        "    x = self.dense_layer(inputs)\r\n",
        "    return (inputs if isidentity else x)"
      ],
      "outputs": [],
      "metadata": {
        "id": "P7jzGX5D1xT5"
      }
    },
    {
      "cell_type": "markdown",
      "source": [
        "Let's test this behavior:"
      ],
      "metadata": {
        "id": "Ku4rcCGx5T3y"
      }
    },
    {
      "cell_type": "code",
      "execution_count": 23,
      "source": [
        "n_output_nodes = 3\r\n",
        "model = IdentityModel(n_output_nodes)\r\n",
        "\r\n",
        "x_input = tf.constant([[1,2.]], shape=(1,2))\r\n",
        "'''TODO: pass the input into the model and call with and without the input identity option.'''\r\n",
        "out_activate = model(x_input)\r\n",
        "out_identity = model(x_input,isidentity=True)\r\n",
        "\r\n",
        "print(\"Network output with activation: {}; network identity output: {}\".format(out_activate.numpy(), out_identity.numpy()))"
      ],
      "outputs": [
        {
          "output_type": "stream",
          "name": "stdout",
          "text": [
            "Network output with activation: [[0.29996255 0.62776643 0.48460072]]; network identity output: [[1. 2.]]\n"
          ]
        }
      ],
      "metadata": {
        "id": "NzC0mgbk5dp2"
      }
    },
    {
      "cell_type": "markdown",
      "source": [
        "Now that we have learned how to define `Layers` as well as neural networks in TensorFlow using both the `Sequential` and Subclassing APIs, we're ready to turn our attention to how to actually implement network training with backpropagation."
      ],
      "metadata": {
        "id": "7V1dEqdk6VI5"
      }
    },
    {
      "cell_type": "markdown",
      "source": [
        "## 1.4 Automatic differentiation in TensorFlow\n",
        "\n",
        "[Automatic differentiation](https://en.wikipedia.org/wiki/Automatic_differentiation)\n",
        "is one of the most important parts of TensorFlow and is the backbone of training with \n",
        "[backpropagation](https://en.wikipedia.org/wiki/Backpropagation). We will use the TensorFlow GradientTape [`tf.GradientTape`](https://www.tensorflow.org/api_docs/python/tf/GradientTape?version=stable) to trace operations for computing gradients later. \n",
        "\n",
        "When a forward pass is made through the network, all forward-pass operations get recorded to a \"tape\"; then, to compute the gradient, the tape is played backwards. By default, the tape is discarded after it is played backwards; this means that a particular `tf.GradientTape` can only\n",
        "compute one gradient, and subsequent calls throw a runtime error. However, we can compute multiple gradients over the same computation by creating a ```persistent``` gradient tape. \n",
        "\n",
        "First, we will look at how we can compute gradients using GradientTape and access them for computation. We define the simple function $ y = x^2$ and compute the gradient:"
      ],
      "metadata": {
        "id": "dQwDhKn8kbO2"
      }
    },
    {
      "cell_type": "code",
      "execution_count": 24,
      "source": [
        "### Gradient computation with GradientTape ###\r\n",
        "\r\n",
        "# y = x^2\r\n",
        "# Example: x = 3.0\r\n",
        "x = tf.Variable(3.0)\r\n",
        "\r\n",
        "# Initiate the gradient tape\r\n",
        "with tf.GradientTape() as tape:\r\n",
        "  # Define the function\r\n",
        "  y = x * x\r\n",
        "# Access the gradient -- derivative of y with respect to x\r\n",
        "dy_dx = tape.gradient(y, x)\r\n",
        "\r\n",
        "assert dy_dx.numpy() == 6.0"
      ],
      "outputs": [],
      "metadata": {
        "id": "tdkqk8pw5yJM"
      }
    },
    {
      "cell_type": "markdown",
      "source": [
        "In training neural networks, we use differentiation and stochastic gradient descent (SGD) to optimize a loss function. Now that we have a sense of how `GradientTape` can be used to compute and access derivatives, we will look at an example where we use automatic differentiation and SGD to find the minimum of $L=(x-x_f)^2$. Here $x_f$ is a variable for a desired value we are trying to optimize for; $L$ represents a loss that we are trying to  minimize. While we can clearly solve this problem analytically ($x_{min}=x_f$), considering how we can compute this using `GradientTape` sets us up nicely for future labs where we use gradient descent to optimize entire neural network losses."
      ],
      "metadata": {
        "id": "JhU5metS5xF3"
      }
    },
    {
      "cell_type": "code",
      "execution_count": null,
      "source": [
        "### Function minimization with automatic differentiation and SGD ###\r\n",
        "\r\n",
        "# Initialize a random value for our initial x\r\n",
        "x = tf.Variable([tf.random.normal([1])])\r\n",
        "print(\"Initializing x={}\".format(x.numpy()))\r\n",
        "\r\n",
        "learning_rate = 1e-2 # learning rate for SGD\r\n",
        "history = []\r\n",
        "# Define the target value\r\n",
        "x_f = 4\r\n",
        "\r\n",
        "# We will run SGD for a number of iterations. At each iteration, we compute the loss, \r\n",
        "#   compute the derivative of the loss with respect to x, and perform the SGD update.\r\n",
        "for i in range(500):\r\n",
        "  with tf.GradientTape() as tape:\r\n",
        "    '''TODO: define the loss as described above'''\r\n",
        "    loss = (x - x_f)**2\r\n",
        "\r\n",
        "  # loss minimization using gradient tape\r\n",
        "  grad = tape.gradient(loss, x) # compute the derivative of the loss with respect to x\r\n",
        "  new_x = x - learning_rate*grad # sgd update\r\n",
        "  x.assign(new_x) # update the value of x\r\n",
        "  history.append(x.numpy()[0])\r\n",
        "\r\n",
        "# Plot the evolution of x as we optimize towards x_f!\r\n",
        "plt.plot(history)\r\n",
        "plt.plot([0, 500],[x_f,x_f])\r\n",
        "plt.legend(('Predicted', 'True'))\r\n",
        "plt.xlabel('Iteration')\r\n",
        "plt.ylabel('x value')"
      ],
      "outputs": [],
      "metadata": {
        "attributes": {
          "classes": [
            "py"
          ],
          "id": ""
        },
        "id": "7g1yWiSXqEf-"
      }
    },
    {
      "cell_type": "markdown",
      "source": [
        "`GradientTape` provides an extremely flexible framework for automatic differentiation. In order to back propagate errors through a neural network, we track forward passes on the Tape, use this information to determine the gradients, and then use these gradients for optimization using SGD."
      ],
      "metadata": {
        "id": "pC7czCwk3ceH"
      }
    }
  ]
}